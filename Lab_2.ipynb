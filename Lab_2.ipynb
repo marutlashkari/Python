{
  "cells": [
    {
      "cell_type": "markdown",
      "metadata": {
        "id": "gNQNxt3b8WIK"
      },
      "source": [
        "\n",
        "<a href='https://www.darshan.ac.in/'> <img src='https://www.darshan.ac.in/Content/media/DU_Logo.svg' width=\"250\" height=\"300\"/></a>\n",
        "<pre>\n",
        "<center><b><h1>Python Programming - 2101CS405</b></center>\n",
        "<center><b><h1>Lab - 2</b></center>    \n",
        "<pre>"
      ]
    },
    {
      "cell_type": "markdown",
      "metadata": {
        "id": "B24NJJkv8WIY"
      },
      "source": [
        "# if..else.."
      ]
    },
    {
      "cell_type": "markdown",
      "metadata": {
        "id": "yzVgyk5m8WIa"
      },
      "source": [
        "### 01) WAP to check whether the given number is positive or negative."
      ]
    },
    {
      "cell_type": "code",
      "execution_count": 1,
      "metadata": {
        "colab": {
          "base_uri": "https://localhost:8080/"
        },
        "id": "vIPLaAY28WIb",
        "outputId": "281671e6-2dd0-4b36-8d95-1b9616bd0cad"
      },
      "outputs": [
        {
          "output_type": "stream",
          "name": "stdout",
          "text": [
            "Enter no : 10\n",
            "The no is pos : \n"
          ]
        }
      ],
      "source": [
        "no = int(input(\"Enter no : \"))\n",
        "if(no > 0):\n",
        "    print(\"The no is pos \")\n",
        "else:\n",
        "    print(\"The no is neg \")"
      ]
    },
    {
      "cell_type": "markdown",
      "metadata": {
        "id": "BhiaTDJA8WIc"
      },
      "source": [
        "### 02) WAP to check whether the given number is odd or even"
      ]
    },
    {
      "cell_type": "code",
      "execution_count": null,
      "metadata": {
        "id": "AzBoXUAi8WIc"
      },
      "outputs": [],
      "source": [
        "no = int(input(\"Enter the no : \"))\n",
        "if no%2==0:\n",
        "    print(\"The no is even\")\n",
        "else:\n",
        "    print(\"The no is odd\")\n"
      ]
    },
    {
      "cell_type": "markdown",
      "metadata": {
        "id": "EcXqEN2E8WIc"
      },
      "source": [
        "### 03) WAP to find out largest number from given two numbers using simple if and ternary operator."
      ]
    },
    {
      "cell_type": "code",
      "execution_count": null,
      "metadata": {
        "id": "fhHyyZG88WId"
      },
      "outputs": [],
      "source": [
        "no1 = int(input(\"Enter The no1 : \"))\n",
        "no2 = int(input(\"Enter The no2 : \"))\n",
        "# simple if\n",
        "if no1>no2:\n",
        "    print(\"The no1 is Largest : \")\n",
        "else:\n",
        "    print(\"The no2 is Largest : \")\n",
        "# ternary operator\n",
        "larg = a if a >b else b\n",
        "print(larg,\"is largest number\")"
      ]
    },
    {
      "cell_type": "markdown",
      "metadata": {
        "id": "nVmMjnRR8WIf"
      },
      "source": [
        "### 04) WAP to find out largest number from given three numbers."
      ]
    },
    {
      "cell_type": "code",
      "execution_count": null,
      "metadata": {
        "id": "R6uZfJj-8WIg"
      },
      "outputs": [],
      "source": [
        "no1 = int(input(\"Enter The no1 : \"))\n",
        "no2 = int(input(\"Enter The no2 : \"))\n",
        "no3 = int(input(\"Enter The no3 : \"))\n",
        "\n",
        "\n",
        "  if no1>no2:\n",
        "    if no1>no3:\n",
        "      print(\"No1 is largest\")\n",
        "  elif no2>no3:\n",
        "    if no2>no1:\n",
        "      print(\"No2 is largest\")\n",
        "  elif no1==no2:\n",
        "      print(\"Enter valid no : \")\n",
        "  else:\n",
        "      print(\"No3 is largest\")"
      ]
    },
    {
      "cell_type": "markdown",
      "metadata": {
        "id": "X16K3xFE8WIg"
      },
      "source": [
        "### 05) WAP to check whether the given year is leap year or not.\n",
        "[If a year can be divisible by 4 but not divisible by 100 then it is leap year but if it is divisible by 400 then it is leap year]"
      ]
    },
    {
      "cell_type": "code",
      "execution_count": null,
      "metadata": {
        "id": "osdMfPSD8WIh"
      },
      "outputs": [],
      "source": [
        "year = int(input(\"Enter year to cheak leap year or not:\"))\n",
        "if year%4==0:\n",
        "    print(year,\"is Leap year\")\n",
        "elif year%100!=0:\n",
        "    print(year,\"is not Leap year\")\n",
        "elif year%400==0:\n",
        "    print(year,\"is Leap year\")\n",
        "else:\n",
        "    print(year,\"is not Leap year\")"
      ]
    },
    {
      "cell_type": "markdown",
      "metadata": {
        "id": "vvZH2Db78WIj"
      },
      "source": [
        "### 06) WAP in python to display the name of the day according to the number given by the user"
      ]
    },
    {
      "cell_type": "code",
      "execution_count": null,
      "metadata": {
        "id": "A19QEcY08WIk"
      },
      "outputs": [],
      "source": [
        "no = int(input(\"Enter number between(1-7):\"))\n",
        "if no==1:\n",
        "    print(\"Monday\")\n",
        "elif no==2:\n",
        "    print(\"Tuesday\")\n",
        "elif no==3:\n",
        "    print(\"Wednesday\")\n",
        "elif no==4:\n",
        "    print(\"Thursday\")\n",
        "elif no==5:\n",
        "    print(\"Friday\")\n",
        "elif no==6:\n",
        "    print(\"Satursday\") \n",
        "elif no==7:\n",
        "    print(\"Sunday!! Weekend vibes\")\n",
        "else:\n",
        "    print(\"no is Invalid!\")"
      ]
    },
    {
      "cell_type": "markdown",
      "metadata": {
        "id": "Uhza4J7D8WIl"
      },
      "source": [
        "### 07) WAP to implement simple calculator which performs (add,sub,mul,div) of two no. based on user input."
      ]
    },
    {
      "cell_type": "code",
      "execution_count": null,
      "metadata": {
        "id": "67gy-Vj08WIl"
      },
      "outputs": [],
      "source": [
        "no1 = int(input(\"Enter first number:\"))\n",
        "no2 = int(input(\"Enter second number:\"))\n",
        "choice = input(\"Enter Your Choice(+,-,/,*):\")\n",
        "if choice=='+':\n",
        "    print(\"Addition:\",no1+no2)\n",
        "elif choice=='-':\n",
        "    print(\"Substraction:\",no1-no2)\n",
        "elif choice=='*':\n",
        "    print(\"Multiplication:\",no1*no2)\n",
        "elif choice=='/':\n",
        "    print(\"Division:\",no1/no2)\n",
        "else:\n",
        "    print(\"Invaild operator\")"
      ]
    },
    {
      "cell_type": "markdown",
      "metadata": {
        "id": "Cx8y-Wpo8WIl"
      },
      "source": [
        "### 08) WAP to calculate electricity bill based on following criteria. Which takes the unit from the user.\n",
        "a. First 1 to 50 units – Rs. 2.60/unit</br>\n",
        "b. Next 50 to 100 units – Rs. 3.25/unit</br>\n",
        "c. Next 100 to 200 units – Rs. 5.26/unit</br>\n",
        "d. above 200 units – Rs. 8.45/unit"
      ]
    },
    {
      "cell_type": "code",
      "execution_count": null,
      "metadata": {
        "id": "U_5lW_Jo8WIm"
      },
      "outputs": [],
      "source": [
        "unit = int(input(\"Enter Unit:\"))\n",
        "if unit<=1 or unit<50:\n",
        "  print(\"Rs. 2.60/unit\")\n",
        "elif unit<=50 or unit<100:\n",
        " print(\"Rs. 3.25/unit\")\n",
        "elif unit<=100 or unit<200:\n",
        " print(\"Rs. 5.26/unit\")\n",
        "elif unit>=200:\n",
        " print(\"Rs. 8.45/unit\")"
      ]
    },
    {
      "cell_type": "markdown",
      "metadata": {
        "id": "kFBIA3Rh8WIn"
      },
      "source": [
        "### 01) WAP to read marks of five subjects. Calculate percentage and print class accordingly. \n",
        "Fail below 35 </br>\n",
        "Pass Class between 35 to 45 </br>\n",
        "Second Class</br>\n",
        "between 45 to 60</br>\n",
        "First Class between 60 to 70</br> \n",
        "Distinction if more than 70"
      ]
    },
    {
      "cell_type": "code",
      "execution_count": null,
      "metadata": {
        "id": "iwkNiwGm8WIn"
      },
      "outputs": [],
      "source": [
        "sub1 = int(input(\"Enter marks of sub1:\"))\n",
        "sub2 = int(input(\"Enter marks of sub2:\"))\n",
        "sub3 = int(input(\"Enter marks of sub3:\"))\n",
        "sub4 = int(input(\"Enter marks of sub4:\"))\n",
        "sub5 = int(input(\"Enter marks of sub5:\"))\n",
        "\n",
        "print(\"Total is\",sub1+sub2+sub3+sub4+sub5)\n",
        "pr = (sub1+sub2+sub3+sub4+sub5)/5\n",
        "\n",
        "print(\"Percentage is\",pr)\n",
        "if pr<35:\n",
        "    print(\"You are fail!\")\n",
        "elif pr<=35 or pr<45:\n",
        "    print(\"You are pass\")\n",
        "elif pr<=45 or pr<60:\n",
        "    print(\"You are in second class\")\n",
        "elif pr<=60 or pr<70:\n",
        "    print(\"You are in first class\")\n",
        "elif pr>=70:\n",
        "    print(\"Distinction!!\")"
      ]
    },
    {
      "cell_type": "markdown",
      "metadata": {
        "id": "0NQtKvh78WIo"
      },
      "source": [
        "### 02) WAP to find out the Maximum and Minimum number from given 4 numbers."
      ]
    },
    {
      "cell_type": "code",
      "execution_count": null,
      "metadata": {
        "id": "AFjOWEk78WIo"
      },
      "outputs": [],
      "source": [
        "num1 =int(input(\"Enter Num 1:\"))\n",
        "num2 =int(input(\"Enter Num 2:\"))\n",
        "num3 =int(input(\"Enter Num 3:\"))\n",
        "num4 =int(input(\"Enter Num 4:\"))\n",
        "if num1>num2:\n",
        " a1=num1\n",
        " x1=num2\n",
        "else:\n",
        " a1=num2\n",
        " x1=num1\n",
        "if num3>num4:\n",
        " a2=num3\n",
        " x2=num4\n",
        "else:\n",
        " a2=num4\n",
        " x2=num3\n",
        "if a1>a2 or x1>x2 :\n",
        "    print(str(a1) + \" is Maximum Number\")\n",
        "    print(str(x2) + \" is Minimum Number\")\n",
        "else:\n",
        "    print(str(a2) + \" is Maximum Number\")\n",
        "    print(str(x1) + \" is Minimum Number\")"
      ]
    },
    {
      "cell_type": "markdown",
      "metadata": {
        "id": "HR4_xUgK8WIp"
      },
      "source": [
        "### 03) WAP to input an integer number and check the last digit of number is even or odd."
      ]
    },
    {
      "cell_type": "code",
      "execution_count": null,
      "metadata": {
        "id": "DdtNOef78WIq"
      },
      "outputs": [],
      "source": [
        "no = int(input(\"Enter number:\"))\n",
        "while no!=0:\n",
        " no = no%10\n",
        " last = no\n",
        " no = no/10\n",
        " break;\n",
        "if last%2==0:\n",
        "  print(str(last)+ \" is even\")\n",
        "else:\n",
        "  print(str(last)+ \" is odd\")\n"
      ]
    },
    {
      "cell_type": "markdown",
      "metadata": {
        "id": "KeZ_5J438WIq"
      },
      "source": [
        "### 04) WAP to determine the roots of the equation ax2+bx+c=0."
      ]
    },
    {
      "cell_type": "code",
      "execution_count": null,
      "metadata": {
        "id": "cbzaL88j8WIr"
      },
      "outputs": [],
      "source": [
        "import cmath\n",
        "a =float(input(\"Enter a:\"))\n",
        "b =float(input(\"Enter b:\"))\n",
        "c =float(input(\"Enter c:\"))\n",
        "\n",
        "d = (b**2) - (4*a*c)\n",
        "\n",
        "sol1 = (-b-cmath.sqrt(d))/(2*a) \n",
        "sol2 = (-b+cmath.sqrt(d))/(2*a) \n",
        "\n",
        "print('The solution are {0} and {1}'.format(sol1,sol2)) "
      ]
    }
  ],
  "metadata": {
    "kernelspec": {
      "display_name": "Python 3 (ipykernel)",
      "language": "python",
      "name": "python3"
    },
    "language_info": {
      "codemirror_mode": {
        "name": "ipython",
        "version": 3
      },
      "file_extension": ".py",
      "mimetype": "text/x-python",
      "name": "python",
      "nbconvert_exporter": "python",
      "pygments_lexer": "ipython3",
      "version": "3.9.13"
    },
    "colab": {
      "provenance": []
    }
  },
  "nbformat": 4,
  "nbformat_minor": 0
}