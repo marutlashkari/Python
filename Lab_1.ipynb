{
 "cells": [
  {
   "cell_type": "markdown",
   "metadata": {},
   "source": [
    "<a href='https://www.darshan.ac.in/'> <img src='https://www.darshan.ac.in/Content/media/DU_Logo.svg' width=\"250\" height=\"300\"/></a>\n",
    "<pre>\n",
    "<center><b><h1>Python Programming - 2101CS405</b></center>\n",
    "<center><b><h1>Lab - 1</b></center>    \n",
    "<pre>"
   ]
  },
  {
   "cell_type": "markdown",
   "metadata": {},
   "source": [
    "### 01) WAP to print “Hello World”"
   ]
  },
  {
   "cell_type": "code",
   "execution_count": 1,
   "metadata": {},
   "outputs": [
    {
     "name": "stdout",
     "output_type": "stream",
     "text": [
      "Hello world\n"
     ]
    }
   ],
   "source": [
    "print(\"Hello world\")"
   ]
  },
  {
   "cell_type": "markdown",
   "metadata": {},
   "source": [
    "### 02) WAP to print your address i) using single print ii) using multiple print"
   ]
  },
  {
   "cell_type": "code",
   "execution_count": 2,
   "metadata": {},
   "outputs": [
    {
     "name": "stdout",
     "output_type": "stream",
     "text": [
      "ABCD\n",
      " EFGH\n",
      " IGKL\n"
     ]
    }
   ],
   "source": [
    "print(\"ABCD\\n EFGH\\n IGKL\")"
   ]
  },
  {
   "cell_type": "markdown",
   "metadata": {},
   "source": [
    "### 03) WAP to print addition of 2 numbers (without input function)"
   ]
  },
  {
   "cell_type": "code",
   "execution_count": 3,
   "metadata": {},
   "outputs": [
    {
     "name": "stdout",
     "output_type": "stream",
     "text": [
      "20\n"
     ]
    }
   ],
   "source": [
    "x = 10\n",
    "y = 10\n",
    "print(x+y)"
   ]
  },
  {
   "cell_type": "markdown",
   "metadata": {},
   "source": [
    "### 04) WAP to calculate and print average of 2 numbers (without input function)"
   ]
  },
  {
   "cell_type": "code",
   "execution_count": 4,
   "metadata": {},
   "outputs": [
    {
     "name": "stdout",
     "output_type": "stream",
     "text": [
      "10.0\n"
     ]
    }
   ],
   "source": [
    "a = 10\n",
    "b = 10 \n",
    "print((a+b)/2)"
   ]
  },
  {
   "cell_type": "markdown",
   "metadata": {},
   "source": [
    "### 05) WAP to add two number entered by user."
   ]
  },
  {
   "cell_type": "code",
   "execution_count": 5,
   "metadata": {},
   "outputs": [
    {
     "name": "stdout",
     "output_type": "stream",
     "text": [
      "Enter no1 : 5\n",
      "Enter no2 : 2\n",
      "7\n"
     ]
    }
   ],
   "source": [
    "x = int(input(\"Enter no1 : \"))\n",
    "y = int(input(\"Enter no2 : \"))\n",
    "z = x + y\n",
    "print(z)"
   ]
  },
  {
   "cell_type": "markdown",
   "metadata": {},
   "source": [
    "### 06) WAP to calculate simple interest."
   ]
  },
  {
   "cell_type": "code",
   "execution_count": 6,
   "metadata": {},
   "outputs": [
    {
     "name": "stdout",
     "output_type": "stream",
     "text": [
      "Simple interest :  20000.0\n"
     ]
    }
   ],
   "source": [
    "p = 1000\n",
    "r = 200\n",
    "t = 10\n",
    "ans = (p*r*t)/100\n",
    "print(\"Simple interest : \",ans)"
   ]
  },
  {
   "cell_type": "markdown",
   "metadata": {},
   "source": [
    "### 07) WAP Calculate Area and Circumfrence of Circle"
   ]
  },
  {
   "cell_type": "code",
   "execution_count": 7,
   "metadata": {},
   "outputs": [
    {
     "name": "stdout",
     "output_type": "stream",
     "text": [
      "area 78.5\n",
      "circumfrence :  31.400000000000002\n"
     ]
    }
   ],
   "source": [
    "r = 5\n",
    "area = 3.14*r*r\n",
    "print(\"area\",area)\n",
    "#circumfrence\n",
    "circumfrence = 2*3.14*r\n",
    "print(\"circumfrence : \",circumfrence)"
   ]
  },
  {
   "cell_type": "markdown",
   "metadata": {},
   "source": [
    "### 08) WAP to print Multiplication table of given number without using loops."
   ]
  },
  {
   "cell_type": "code",
   "execution_count": 8,
   "metadata": {},
   "outputs": [
    {
     "name": "stdout",
     "output_type": "stream",
     "text": [
      "Enter no to give table : 10\n",
      "10  * 1 =  10\n",
      "10  * 2 =  20\n",
      "10  * 3 =  30\n",
      "10  * 4 =  40\n",
      "10  * 5 =  50\n",
      "10  * 6 =  60\n",
      "10  * 7 =  70\n",
      "10  * 8 =  80\n",
      "10  * 9 =  90\n",
      "10  * 10 =  100\n"
     ]
    }
   ],
   "source": [
    "x = int(input(\"Enter no to give table : \"))\n",
    "print(x,\" * 1 = \",(x*1))\n",
    "print(x,\" * 2 = \",(x*2))\n",
    "print(x,\" * 3 = \",(x*3))\n",
    "print(x,\" * 4 = \",(x*4))\n",
    "print(x,\" * 5 = \",(x*5))\n",
    "print(x,\" * 6 = \",(x*6))\n",
    "print(x,\" * 7 = \",(x*7))\n",
    "print(x,\" * 8 = \",(x*8))\n",
    "print(x,\" * 9 = \",(x*9))\n",
    "print(x,\" * 10 = \",(x*10))"
   ]
  },
  {
   "cell_type": "markdown",
   "metadata": {},
   "source": [
    "### 09) WAP to calculate Area of Triangle (hint: a = h * b * 0.5)"
   ]
  },
  {
   "cell_type": "code",
   "execution_count": 9,
   "metadata": {},
   "outputs": [
    {
     "name": "stdout",
     "output_type": "stream",
     "text": [
      "Enter h : 5\n",
      "Enter b : 20\n",
      "50.0\n"
     ]
    }
   ],
   "source": [
    "h = int(input(\"Enter h : \"))\n",
    "b = int(input(\"Enter b : \"))\n",
    "a = h*b*0.5\n",
    "print(a)"
   ]
  },
  {
   "cell_type": "markdown",
   "metadata": {},
   "source": [
    "### 10) WAP to convert degree to Fahrenheit and vice versa."
   ]
  },
  {
   "cell_type": "code",
   "execution_count": 10,
   "metadata": {},
   "outputs": [
    {
     "name": "stdout",
     "output_type": "stream",
     "text": [
      "Enter a celsius : 50\n",
      "122.0\n",
      "Enter a Fahrenheit : 50\n",
      "10.0\n"
     ]
    }
   ],
   "source": [
    "#(0°C × 9/5) + 32 \n",
    "#degree to Fahrenheit\n",
    "celsius = float(input(\"Enter a celsius : \"))\n",
    "celsiusans =(celsius * 9/5) + 32 \n",
    "print(celsiusans)\n",
    "\n",
    "#(10°F − 32) × 5/9\n",
    "#Fahrenheit to degree \n",
    "Fahrenheit = float(input(\"Enter a Fahrenheit : \"))\n",
    "Fahrenheitans =(Fahrenheit -32)*5/9\n",
    "print(Fahrenheitans)"
   ]
  },
  {
   "cell_type": "markdown",
   "metadata": {},
   "source": [
    "### 11) WAP to calculate total marks and Percentage."
   ]
  },
  {
   "cell_type": "code",
   "execution_count": 11,
   "metadata": {},
   "outputs": [
    {
     "name": "stdout",
     "output_type": "stream",
     "text": [
      "Percentage :  0.8\n"
     ]
    }
   ],
   "source": [
    "x = 50\n",
    "y = 40 \n",
    "z = 30\n",
    "Percentage = (x+y+z)/150\n",
    "print(\"Percentage : \",Percentage)"
   ]
  },
  {
   "cell_type": "markdown",
   "metadata": {},
   "source": [
    "### 12) Compute distance between two points taking input from the user (Pythagorean Theorem)."
   ]
  },
  {
   "cell_type": "code",
   "execution_count": 12,
   "metadata": {},
   "outputs": [
    {
     "name": "stdout",
     "output_type": "stream",
     "text": [
      "Enter x : 1\n",
      "Enter y : 5\n",
      "Enter x1 : 7\n",
      "Enter y1 : 8\n",
      "Pythagorean theorem :  1.5\n"
     ]
    }
   ],
   "source": [
    "x = int(input(\"Enter x : \"))\n",
    "y = int(input(\"Enter y : \"))\n",
    "x1 = int(input(\"Enter x1 : \"))\n",
    "y1 = int(input(\"Enter y1 : \"))\n",
    "z = ((y-y1)^2+(x-x1)^2)*0.5\n",
    "print(\"Pythagorean theorem : \",z)"
   ]
  },
  {
   "cell_type": "markdown",
   "metadata": {},
   "source": [
    "### 13) WAP to convert seconds into hours, minutes & seconds and print in HH:MM:SS\n",
    "[e.g. 10000 seconds mean 2:46:40 (2 Hours, 46 Minutes, 40Seconds)]"
   ]
  },
  {
   "cell_type": "code",
   "execution_count": 13,
   "metadata": {},
   "outputs": [
    {
     "name": "stdout",
     "output_type": "stream",
     "text": [
      "Enter Seconds : 60\n",
      "0:1:0\n"
     ]
    }
   ],
   "source": [
    "s = int(input(\"Enter Seconds : \"))\n",
    "h = s//3600\n",
    "m = (s % 3600)//60\n",
    "s = (s % 3600) % 60\n",
    "print(f\"{h}:{m}:{s}\")"
   ]
  },
  {
   "cell_type": "markdown",
   "metadata": {},
   "source": [
    "### 14) WAP to enter distance into kilometer and convert it into meter, feet,inches, and centimeter"
   ]
  },
  {
   "cell_type": "code",
   "execution_count": 14,
   "metadata": {},
   "outputs": [
    {
     "name": "stdout",
     "output_type": "stream",
     "text": [
      "Enter the value of kilometer : 10\n",
      "kilometer ans :  10000.0\n",
      "Enter the value of kilometer : 10\n",
      "centimeter ans :  1000000.0\n",
      "Enter the value of kilometer : 10\n",
      "feet ans :  32810.0\n",
      "Enter the value of kilometer : 10\n",
      "inches ans :  393700.0\n"
     ]
    }
   ],
   "source": [
    "#kilometer to meter \n",
    "kilometer = float(input(\"Enter the value of kilometer : \"))\n",
    "meterrans = kilometer*1000\n",
    "print(\"kilometer ans : \",meterrans)\n",
    "\n",
    "#kilometer to meter \n",
    "kilometer = float(input(\"Enter the value of kilometer : \"))\n",
    "centimeterans = kilometer*100000\n",
    "print(\"centimeter ans : \",centimeterans)\n",
    "\n",
    "#kilometer to feet \n",
    "kilometer = float(input(\"Enter the value of kilometer : \"))\n",
    "feetans = kilometer*3281\n",
    "print(\"feet ans : \",feetans)\n",
    "\n",
    "#kilometer to inches \n",
    "kilometer = float(input(\"Enter the value of kilometer : \"))\n",
    "inchesans = kilometer*39370\n",
    "print(\"inches ans : \",inchesans)"
   ]
  }
 ],
 "metadata": {
  "kernelspec": {
   "display_name": "Python 3 (ipykernel)",
   "language": "python",
   "name": "python3"
  },
  "language_info": {
   "codemirror_mode": {
    "name": "ipython",
    "version": 3
   },
   "file_extension": ".py",
   "mimetype": "text/x-python",
   "name": "python",
   "nbconvert_exporter": "python",
   "pygments_lexer": "ipython3",
   "version": "3.11.1"
  }
 },
 "nbformat": 4,
 "nbformat_minor": 4
}
